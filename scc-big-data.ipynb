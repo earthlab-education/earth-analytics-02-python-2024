{
 "cells": [
  {
   "cell_type": "markdown",
   "id": "493cfcf6",
   "metadata": {
    "tags": [
     "remove_cell"
    ]
   },
   "source": [
    "<div><img style=\"float: left; padding-right: 3em;\" src=\"https://avatars.githubusercontent.com/u/19476722\" width=\"150\" /><div/>\n",
    "\n",
    "# Earth Data Science Coding Challenge!\n",
    "Before we get started, make sure to read or review the guidelines below. These will help make sure that your code is **readable** and **reproducible**. "
   ]
  },
  {
   "cell_type": "markdown",
   "id": "960871ed",
   "metadata": {
    "tags": [
     "remove_cell"
    ]
   },
   "source": [
    "## Don't get **caught** by these Jupyter notebook gotchas\n",
    "\n",
    "<img src=\"https://miro.medium.com/v2/resize:fit:4800/format:webp/1*o0HleR7BSe8W-pTnmucqHA.jpeg\" width=300 style=\"padding: 1em; border-style: solid; border-color: grey;\" />\n",
    "\n",
    "  > *Image source: https://alaskausfws.medium.com/whats-big-and-brown-and-loves-salmon-e1803579ee36*\n",
    "\n",
    "These are the most common issues that will keep you from getting started and delay your code review:\n",
    "\n",
    "1. When you try to run some code on GitHub Codespaces, you may be prompted to select a **kernel**.\n",
    "   * The **kernel** refers to the version of Python you are using\n",
    "   * You should use the **base** kernel, which should be the default option. \n",
    "   * You can also use the `Select Kernel` menu in the upper right to select the **base** kernel\n",
    "2. Before you commit your work, make sure it runs **reproducibly** by clicking:\n",
    "   1. `Restart` (this button won't appear until you've run some code), then\n",
    "   2. `Run All`\n",
    "\n",
    "## Check your code to make sure it's clean and easy to read\n",
    "\n",
    "<img src=\"https://encrypted-tbn0.gstatic.com/images?q=tbn:ANd9GcSO1w9WrbwbuMLN14IezH-iq2HEGwO3JDvmo5Y_hQIy7k-Xo2gZH-mP2GUIG6RFWL04X1k&usqp=CAU\" height=200 />\n",
    "\n",
    "* Format all cells prior to submitting (right click on your code).\n",
    "* Use expressive names for variables so you or the reader knows what they are. \n",
    "* Use comments to explain your code -- e.g. \n",
    "  ```python\n",
    "  # This is a comment, it starts with a hash sign\n",
    "  ```\n",
    "\n",
    "## Label and describe your plots\n",
    "\n",
    "![Source: https://xkcd.com/833](https://imgs.xkcd.com/comics/convincing.png)\n",
    "\n",
    "Make sure each plot has:\n",
    "  * A title that explains where and when the data are from\n",
    "  * x- and y- axis labels with **units** where appropriate\n",
    "  * A legend where appropriate\n",
    "\n",
    "\n",
    "## Icons: how to use this notebook\n",
    "We use the following icons to let you know when you need to change something to complete the challenge:\n",
    "  * &#128187; means you need to write or edit some code.\n",
    "  \n",
    "  * &#128214;  indicates recommended reading\n",
    "  \n",
    "  * &#9998; marks written responses to questions\n",
    "  \n",
    "  * &#127798; is an optional extra challenge\n",
    "  "
   ]
  },
  {
   "cell_type": "markdown",
   "id": "36811936",
   "metadata": {},
   "source": [
    "---"
   ]
  },
  {
   "cell_type": "markdown",
   "id": "86ce818e-0692-4554-aeb5-920b233a5f9d",
   "metadata": {
    "deletable": false,
    "editable": false,
    "nbgrader": {
     "cell_type": "markdown",
     "checksum": "2acf1c15813630e33c627727645c9bba",
     "grade": false,
     "grade_id": "overview",
     "locked": true,
     "schema_version": 3,
     "solution": false,
     "task": false
    },
    "tags": []
   },
   "source": [
    "# Chicago Urban Greenspace\n",
    "\n",
    "In this notebook, you will write code to calculate statistics about urban greenspace in Chicago. You will then use a linear model to identify statistically significant correlations between the distribution of greenspace and socioeconomic data collected by the U.S. Census. For your analysis, you will be roughly following the methodology of [this paper about Portland, OR green space](https://doi.org/10.3390/f7080162).\n",
    "\n",
    "![](https://s3.amazonaws.com/medill.wordpress.offload/WP%20Media%20Folder%20-%20medill-reports-chicago/wp-content/uploads/sites/3/2019/03/lincoln-parkflickr-sized.jpg)\n",
    "\n",
    "> Image source: [Medill News](https://news.medill.northwestern.edu/chicago/friends-of-the-parks-alleges-chicago-green-spaces-still-map-racial-inequality/)\n",
    "\n",
    "### Working with larger-than-memory (big) data\n",
    "\n",
    "The National Agricultural Imagery Program (NAIP) data for the City of Chicago takes up about 20GB. This amount of data is likely to crash your kernel if you try to load it all in at once. It also would be inconvenient to store on your harddrive so that you can load it in a bit at a time for analysis. Even if your are using a computer that would be able to handle this amount of data, imagine if you were analysing the entire United States over multiple years!\n",
    "\n",
    "To help with this problem, you will use cloud-based tools to calculate your statistics instead of downloading rasters to your computer or container. You can perform basic calculations such as clipping and computing summary statistics entirely in the cloud, provided you give `rioxarray` the right kind of URL.\n",
    "\n",
    "### Check your work with testing!\n",
    "\n",
    "This notebook does not have pre-built tests. You will need to write your own test code to make sure everything is working the way that you want. For many operations, this will be as simple as creating a plot to check that all your data lines up spatially the way you were expecting, or printing values as you go."
   ]
  },
  {
   "cell_type": "markdown",
   "id": "8d6ad8e8-4838-4c08-93af-ccce7e74a88b",
   "metadata": {
    "deletable": false,
    "editable": false,
    "nbgrader": {
     "cell_type": "markdown",
     "checksum": "7e4de4a6e6aed042205f56d938e2b089",
     "grade": false,
     "grade_id": "step-1",
     "locked": true,
     "schema_version": 3,
     "solution": false,
     "task": false
    },
    "tags": []
   },
   "source": [
    "## STEP 1: Set up your analysis"
   ]
  },
  {
   "cell_type": "markdown",
   "id": "abc53260-f58b-47b4-a39e-9d0d70564675",
   "metadata": {
    "deletable": false,
    "editable": false,
    "nbgrader": {
     "cell_type": "markdown",
     "checksum": "a933e2de5d9e91397fced5b99d73c087",
     "grade": false,
     "grade_id": "imports-task",
     "locked": true,
     "points": 2,
     "schema_version": 3,
     "solution": false,
     "task": true
    },
    "tags": []
   },
   "source": [
    "For this analysis, you will need a few packages that may not be in your environment:\n",
    "\n",
    "  * pystac-client will help you search for cloud data in a STAC (SpatioTemporal Access Catalogs)\n",
    "  * `census` and `us` will help you access U.S. Census data\n",
    "  \n",
    "**YOUR TASK:**\n",
    "\n",
    "1. Install required packages using the command (`-y` tells conda to automatically continue with the install instead of asking for permission):\n",
    "   ```bash\n",
    "   conda install -y -c conda-forge pystac-client census us\n",
    "   ```\n",
    "2. Import necessary packages\n",
    "3. Create **reproducible file paths** for your project file structure.\n",
    "\n",
    "**Please store your data files somewhere in `~/earthpy-analytics/data`. This helps me keep my data files organized when I am grading, and helps you avoid large data files in your GitHub repository.**"
   ]
  },
  {
   "cell_type": "code",
   "execution_count": null,
   "id": "3a6d1acd-0560-4a4c-8e1f-08c6c733f5eb",
   "metadata": {
    "deletable": false,
    "nbgrader": {
     "cell_type": "code",
     "checksum": "d2dc34730b8f60cf4eb0312f69138d3c",
     "grade": false,
     "grade_id": "imports-ans",
     "locked": false,
     "schema_version": 3,
     "solution": true,
     "task": false
    },
    "tags": []
   },
   "outputs": [],
   "source": [
    "# import libraries\n",
    "\n",
    "import getpass\n",
    "import os\n",
    "\n",
    "\n",
    "import earthpy as et\n",
    "import geopandas as gpd\n",
    "import geoviews as gv\n",
    "import geoviews.tile_sources as gvts\n",
    "import holoviews as hv\n",
    "import hvplot.pandas\n",
    "import matplotlib.pyplot as plt\n",
    "import numpy as np\n",
    "import pandas as pd\n",
    "import pystac_client\n",
    "import rasterio\n",
    "from rasterio.mask import mask\n",
    "from rasterio.merge import merge\n",
    "import rasterio.plot as rp\n",
    "from rasterio.errors import RasterioIOError\n",
    "import rioxarray as rxr\n",
    "from rioxarray.merge import merge_arrays\n",
    "import shapely\n",
    "import warnings\n",
    "import xarray as xr\n",
    "\n",
    "from census import Census\n",
    "from hvplot.plotting import scatter_matrix\n",
    "from sklearn.model_selection import train_test_split\n",
    "from sklearn.linear_model import LinearRegression\n",
    "from sklearn.metrics import mean_squared_error\n",
    "from sklearn.impute import SimpleImputer\n",
    "from tqdm.notebook import tqdm\n",
    "from us import states\n",
    "\n",
    "\n",
    "\n",
    "# Create a path to the home/earth-analytics directory on your computer\n",
    "home_dir = os.path.join(et.io.HOME, \"earth-analytics\")\n",
    "data_dir = os.path.join(home_dir, 'data')\n",
    "proj_dir = os.path.join(data_dir, 'ea_proj1')\n",
    "census_dir = os.path.join(proj_dir, 'census_data')\n",
    "naip_dir = os.path.join(proj_dir, 'naip_data')\n",
    "ndvi_dir = os.path.join(proj_dir, 'ndvi_data')\n",
    "\n",
    "for a_dir in [proj_dir, census_dir, naip_dir, ndvi_dir]:\n",
    "    if not os.path.exists(a_dir):\n",
    "        os.makedirs(a_dir)\n",
    "\n",
    "# This code will help when access to the Microsoft Planetary Computer STAC needs more time\n",
    "os.environ[\"GDAL_HTTP_MAX_RETRY\"] = \"5\"\n",
    "os.environ[\"GDAL_HTTP_RETRY_DELAY\"] = \"1\""
   ]
  },
  {
   "cell_type": "markdown",
   "id": "86aa6dd0-4efd-4e97-a342-dd08e38ad4b7",
   "metadata": {
    "deletable": false,
    "editable": false,
    "nbgrader": {
     "cell_type": "markdown",
     "checksum": "03942a1f77b120d3fabb5ba62a1e0a4d",
     "grade": false,
     "grade_id": "step-2",
     "locked": true,
     "schema_version": 3,
     "solution": false,
     "task": false
    },
    "tags": []
   },
   "source": [
    "## STEP 2 - Download/Access Urban Greenspaces and Census Data"
   ]
  },
  {
   "cell_type": "markdown",
   "id": "ab571d63-d20c-456e-885f-e7d3ede0deb7",
   "metadata": {
    "deletable": false,
    "editable": false,
    "nbgrader": {
     "cell_type": "markdown",
     "checksum": "474974107ac5e9b9594451476edf7bb2",
     "grade": false,
     "grade_id": "chicago-task",
     "locked": true,
     "points": 3,
     "schema_version": 3,
     "solution": false,
     "task": true
    },
    "tags": []
   },
   "source": [
    "### Download City of Chicago Boundary\n",
    "\n",
    "You can find the City of Chicago Boundary on the [City of Chicago Data Portal](https://data.cityofchicago.org/). \n",
    "\n",
    "> **Make sure to download in `Original` format**, as the `Shapefile` format has not been working lately.\n",
    "\n",
    "**YOUR TASK:**\n",
    "\n",
    "  1. Download the City of Chicago Boundary\n",
    "  2. Use a **conditional statement** to cache the boundary at a **reproducible file path**"
   ]
  },
  {
   "cell_type": "code",
   "execution_count": null,
   "id": "93ba244e-6621-4c06-86f9-2023b5cd4474",
   "metadata": {
    "deletable": false,
    "nbgrader": {
     "cell_type": "code",
     "checksum": "f351e3dccbfe7948da3c162d55613850",
     "grade": false,
     "grade_id": "chicago-ans",
     "locked": false,
     "schema_version": 3,
     "solution": true,
     "task": false
    },
    "tags": []
   },
   "outputs": [],
   "source": [
    "# Download the City of Chicago boundary and put it in folder. \n",
    "# If the boundary has already been downloaded then use the file\n",
    "#   from the folder.\n",
    "\n",
    "chi_path = os.path.join(proj_dir, 'chicago_boundary')\n",
    "if not os.path.exists(chi_path):\n",
    "    chi_url = (\"https://data.cityofchicago.org/api\"\n",
    "               \"/geospatial/ewy2-6yfk?method=export&format=Original\") \n",
    "    gpd.read_file(chi_url).to_file(chi_path)\n",
    "    \n",
    "chi_boundary = gpd.read_file(chi_path)\n",
    "chi_boundary.plot()\n"
   ]
  },
  {
   "cell_type": "code",
   "execution_count": null,
   "id": "73640b34-5711-4125-bcc1-948b73a9d874",
   "metadata": {
    "tags": []
   },
   "outputs": [],
   "source": [
    "# What projection is the Chicago shapefile set to?\n",
    "chi_boundary.crs"
   ]
  },
  {
   "cell_type": "code",
   "execution_count": null,
   "id": "1ec26780-8f99-406c-9899-09fe85f15a67",
   "metadata": {
    "tags": []
   },
   "outputs": [],
   "source": [
    "# Reproject to WGS 84 -- WGS84 - World Geodetic System 1984 to match NAIP imagery\n",
    "\n",
    "chi_reprojected = chi_boundary.to_crs(\"EPSG:4326\")\n",
    "print(chi_reprojected.crs)\n"
   ]
  },
  {
   "cell_type": "markdown",
   "id": "905336db-beab-4c74-904b-c569206d004e",
   "metadata": {
    "deletable": false,
    "nbgrader": {
     "cell_type": "markdown",
     "checksum": "0210c86b678e9e41681469a7c3fa5314",
     "grade": true,
     "grade_id": "chicago-cite",
     "locked": false,
     "points": 2,
     "schema_version": 3,
     "solution": true,
     "task": false
    },
    "tags": []
   },
   "source": [
    "YOUR ANSWER HERE"
   ]
  },
  {
   "cell_type": "markdown",
   "id": "812a00b0-4118-4f89-940f-02982ab01c85",
   "metadata": {
    "deletable": false,
    "editable": false,
    "nbgrader": {
     "cell_type": "markdown",
     "checksum": "047b47785183985f5211f42e3b13f75f",
     "grade": false,
     "grade_id": "tracts-task",
     "locked": true,
     "points": 3,
     "schema_version": 3,
     "solution": false,
     "task": true
    },
    "tags": []
   },
   "source": [
    "### Download census tracts and select those that intersect the study boundary\n",
    "\n",
    "You can obtain urls for the U.S. Census Tract shapefiles from [the TIGER service](https://www.census.gov/geographies/mapping-files/time-series/geo/tiger-line-file.html). You'll notice that these URLs use the state FIPS, which you can get from the `us` package using the command `us.states.ABBR.fips` (e.g. for the state of Colorado it would be `us.states.CO.fips`.\n",
    "\n",
    "**YOUR TASK:**\n",
    "\n",
    "1. Download the Census tract Shapefile for the state of Illinois (IL)\n",
    "2. Use a **conditional statement** to cache the download\n",
    "3. Use a **spatial join** to select only the Census tracts that lie at least partially within the City of Chicago boundary"
   ]
  },
  {
   "cell_type": "code",
   "execution_count": null,
   "id": "1ecfca52-3143-4a32-96a4-98a3e482aa8a",
   "metadata": {
    "deletable": false,
    "nbgrader": {
     "cell_type": "code",
     "checksum": "8ca94b0235362d3433a1c19249971992",
     "grade": false,
     "grade_id": "tracts-ans",
     "locked": false,
     "schema_version": 3,
     "solution": true,
     "task": false
    },
    "tags": []
   },
   "outputs": [],
   "source": [
    "# Download the City of Chicago Census Tract shapefiles and put it in folder. \n",
    "# If the boundary has already been downloaded then use the file\n",
    "#   from the folder.\n",
    "\n",
    "census_path = os.path.join(proj_dir, 'illinois_census_tract')\n",
    "if not os.path.exists(census_path):\n",
    "    census_url = (\"https://www2.census.gov/geo/tiger/TIGER_RD18/STATE/17_ILLINOIS/17/tl_rd22_17_tract.zip\") \n",
    "    gpd.read_file(census_url).to_file(census_path)\n",
    "    \n",
    "census_tract = gpd.read_file(census_path)\n",
    "census_tract.plot()"
   ]
  },
  {
   "cell_type": "code",
   "execution_count": null,
   "id": "8d514393-0b9c-4bc2-be41-4abc71ec661d",
   "metadata": {
    "tags": []
   },
   "outputs": [],
   "source": [
    "# Check to see what coordinate system the Tiger Tract data is using\n",
    "census_tract.crs"
   ]
  },
  {
   "cell_type": "code",
   "execution_count": null,
   "id": "7404d302-042c-4b3c-bdc7-f11cc153c386",
   "metadata": {
    "tags": []
   },
   "outputs": [],
   "source": [
    "# Reproject to WGS 84 -- WGS84 - World Geodetic System 1984 to match NAIP imagery\n",
    "\n",
    "census_reprojected = census_tract.to_crs(\"EPSG:4326\")\n",
    "print(census_reprojected.crs)\n",
    "\n"
   ]
  },
  {
   "cell_type": "code",
   "execution_count": null,
   "id": "5d05ed31-9254-46cf-8bbc-5d17cd6c574c",
   "metadata": {
    "tags": []
   },
   "outputs": [],
   "source": [
    "# Perform a spatial join to extract Chicago area\n",
    "chicago_tracts = gpd.sjoin(census_reprojected, chi_reprojected, op='intersects')\n",
    "\n",
    "# Save the result to a new Shapefile if needed\n",
    "chicago_tracts.to_file(os.path.join(proj_dir, 'chicago_tracts'))\n",
    "\n",
    "chicago_tracts.plot()"
   ]
  },
  {
   "cell_type": "markdown",
   "id": "ebd9e5d0-6186-480d-a935-3eb41631fd9a",
   "metadata": {
    "deletable": false,
    "nbgrader": {
     "cell_type": "markdown",
     "checksum": "97dd1c85510ebfc8397085b7d501b95f",
     "grade": true,
     "grade_id": "tracts-cite",
     "locked": false,
     "points": 2,
     "schema_version": 3,
     "solution": true,
     "task": false
    },
    "tags": []
   },
   "source": [
    "YOUR ANSWER HERE"
   ]
  },
  {
   "cell_type": "markdown",
   "id": "aa59858d-0755-4e9a-a6db-4614324bb09f",
   "metadata": {
    "deletable": false,
    "editable": false,
    "nbgrader": {
     "cell_type": "markdown",
     "checksum": "aa029b4637f7bf3fd1ee6ae3ee03134f",
     "grade": false,
     "grade_id": "lake-task",
     "locked": true,
     "points": 3,
     "schema_version": 3,
     "solution": false,
     "task": true
    },
    "tags": []
   },
   "source": [
    "### Download Lake Michigan boundary and clip census tracts\n",
    "\n",
    "If you plot the Census tract data you just downloaded, you will notice that the census tracts along the coast of Lake Michigan extend into the lake. This will throw off your analysis if you leave it there. There are a few ways to deal with this type of problem, but for now you can use a boundary for Lake Michigan to clip the Census tracts. You can find a shapefile for Lake Michigan from the [State of Michigan MapServer](https://gis-michigan.opendata.arcgis.com/datasets/lake-michigan-shoreline/explore?location=43.785916%2C-90.269240%2C7.00)\n",
    "\n",
    "**YOUR TASK:**\n",
    "\n",
    "  1. Download the Lake Michigan boundary file\n",
    "  2. Use a **conditional statement** to cache the download\n",
    "  3. Use the `.overlay` method of GeoDataFrames to clip off any parts of your Census tract boundaries that are in Lake Michigan"
   ]
  },
  {
   "cell_type": "code",
   "execution_count": null,
   "id": "42f67e84-022a-4fe3-a20f-e37b74bfef76",
   "metadata": {
    "deletable": false,
    "nbgrader": {
     "cell_type": "code",
     "checksum": "89825a7fffde5a63c3af9351fb3b6949",
     "grade": false,
     "grade_id": "lake-ans",
     "locked": false,
     "schema_version": 3,
     "solution": true,
     "task": false
    },
    "tags": []
   },
   "outputs": [],
   "source": [
    "# Download the City of Chicago Census Tract shapefiles and put it in folder. \n",
    "# If the boundary has already been downloaded then use the file\n",
    "#   from the folder.\n",
    "\n",
    "lake_path = os.path.join(proj_dir, 'michigan_boundary')\n",
    "if not os.path.exists(lake_path):\n",
    "    lake_url = (\"https://gisagocss.state.mi.us/arcgis/rest/\"\n",
    "                \"services/OpenData/hydro/MapServer/12/\"\n",
    "                \"query?where=1%3D1&outFields=*&outSR=4326&f=json\") \n",
    "    gpd.read_file(lake_url).to_file(lake_path)\n",
    "    \n",
    "lake_boundary = gpd.read_file(lake_path)\n",
    "lake_boundary.plot()\n"
   ]
  },
  {
   "cell_type": "code",
   "execution_count": null,
   "id": "ba6d1adf-b082-4750-912e-976fae3d1c3c",
   "metadata": {
    "tags": []
   },
   "outputs": [],
   "source": [
    "#  Reproject to WGS 84 -- WGS84 - World Geodetic System 1984 to match NAIP imagery\n",
    "\n",
    "lake_bound_repro = lake_boundary.to_crs(\"EPSG:4326\")\n",
    "print(lake_bound_repro.crs)\n",
    "\n",
    "lake_bound_repro.crs\n"
   ]
  },
  {
   "cell_type": "code",
   "execution_count": null,
   "id": "1d61fc68-86ef-4d75-987d-d837280e11b3",
   "metadata": {
    "tags": []
   },
   "outputs": [],
   "source": [
    "# Use the .overlay method of GeoDataFrames to clip off any parts of your Census tract boundaries that are in Lake Michigan\n",
    "\n",
    "chicago_census_gdf = chicago_tracts.overlay(lake_bound_repro, how='difference')\n",
    "\n",
    "chicago_census_gdf.plot()\n",
    "chicago_census_gdf"
   ]
  },
  {
   "cell_type": "markdown",
   "id": "75fd41b6-7be1-4a66-8909-72a5a6f634aa",
   "metadata": {
    "deletable": false,
    "nbgrader": {
     "cell_type": "markdown",
     "checksum": "79e6df3f4a46028c71b9c90ff478b7d8",
     "grade": true,
     "grade_id": "lake-cite",
     "locked": false,
     "points": 2,
     "schema_version": 3,
     "solution": true,
     "task": false
    },
    "tags": []
   },
   "source": [
    "YOUR ANSWER HERE"
   ]
  },
  {
   "cell_type": "markdown",
   "id": "d6999edc-32ba-4e16-96a4-87f85e669cff",
   "metadata": {
    "deletable": false,
    "editable": false,
    "nbgrader": {
     "cell_type": "markdown",
     "checksum": "ff3dabd5f12ec7d05c5726967352ed04",
     "grade": false,
     "grade_id": "census-task",
     "locked": true,
     "points": 8,
     "schema_version": 3,
     "solution": false,
     "task": true
    },
    "tags": []
   },
   "source": [
    "### Access census data and join with the Census tract geometry\n",
    "\n",
    "The U.S. Census Bureau collects a number of socioeconomic variables that might be correlated with Urban Greenspace. For this assignment, start with the Median Income. You can find some useful sample code in the [PyGIS textbook page on accessing Census data](https://pygis.io/docs/d_access_census.html)\n",
    "\n",
    "**YOUR TASK:**\n",
    "\n",
    "  1. Sign up for a U.S. Census Bureau API Key at their [Request a Key website](https://api.census.gov/data/key_signup.html). You can list the University of Colorado as your organization.\n",
    "  2. Locate the Median Income in the [list of Census variables](https://api.census.gov/data/2019/acs/acs5/variables.html)\n",
    "  3. Download the 2021 Median Income for each Census Tract, making sure to **cache your download**\n",
    "  \n",
    "> NOTE: The Census API will only let you download 50 tracts at once. Can you figure out how to use a loop to ask for 50 tracts at a time?"
   ]
  },
  {
   "cell_type": "code",
   "execution_count": null,
   "id": "c9ba4221-076c-4c6a-bfef-96c2901e9e5b",
   "metadata": {
    "nbgrader": {
     "cell_type": "code",
     "checksum": "9505e2598968c0493f6dff974fa25204",
     "grade": false,
     "grade_id": "census-ans",
     "locked": false,
     "schema_version": 3,
     "solution": true,
     "task": false
    },
    "tags": []
   },
   "outputs": [],
   "source": [
    "#  Download the Census data for the state of Illinois for the year 2021\n",
    "\n",
    "census_data_path = os.path.join(proj_dir, 'census_data', 'il_census.csv')\n",
    "if not os.path.exists(census_data_path):\n",
    "    api_key = getpass.getpass('U.S. Census API Key')\n",
    "    c = Census(api_key)\n",
    "    il_census = c.acs5.state_county_tract(fields = ('NAME', 'B06011_001E', 'B19301_001E', 'B01003_001E', 'B25035_001E'),\n",
    "                                      state_fips = states.IL.fips,\n",
    "                                      county_fips = \"*\",\n",
    "                                      tract = \"*\",\n",
    "                                      year = 2021) \n",
    "    il_df = pd.DataFrame(il_census)\n",
    "    print(\"Column data types for il_df data:\\n{}\".format(il_df.dtypes))\n",
    "    il_df.to_csv(census_data_path, index=False, header=False)\n",
    "    \n",
    "# Explicitly set data types to object to preserve leading zeros\n",
    "column_names = (['NAME', 'median_income', 'per_capita_income',\n",
    "                     'population', 'median_year_built','state', 'county', 'tract', 'GEOID'])\n",
    "column_dtypes = ({'NAME': object, 'median_income': float, 'per_capita_income': float,\n",
    "                      'population': float, 'median_year_built': int, 'state': object,\n",
    "                      'county': object, 'tract': object, 'GEOID': object})\n",
    "    \n",
    "# Read the CSV file into a DataFrame\n",
    "il_census_csv = pd.read_csv(census_data_path, names=column_names, dtype=column_dtypes)\n",
    "  \n",
    "# Show the dataframe\n",
    "print(il_census_csv.tail(10))\n",
    "print('Shape: ', il_census_csv.shape)\n",
    "#  Confirm that the data is in the same format after changing it to .csv file\n",
    "print(\"Column data types for il_census_csv data:\\n{}\".format(il_census_csv.dtypes))\n",
    "#print(\"Column data types for il_df data:\\n{}\".format(il_df.dtypes))\n",
    "\n",
    "\n",
    "\n"
   ]
  },
  {
   "cell_type": "markdown",
   "id": "fb106d60-4b9f-418e-8d96-4a6ecfeb03e1",
   "metadata": {
    "deletable": false,
    "nbgrader": {
     "cell_type": "code",
     "checksum": "9505e2598968c0493f6dff974fa25204",
     "grade": false,
     "grade_id": "census-ans",
     "locked": false,
     "schema_version": 3,
     "solution": true,
     "task": false
    },
    "tags": []
   },
   "source": [
    "#### For what ever reason, I can't get this cell to delete"
   ]
  },
  {
   "cell_type": "code",
   "execution_count": null,
   "id": "9bc06119-1396-4923-8027-519091759d66",
   "metadata": {
    "tags": []
   },
   "outputs": [],
   "source": [
    "# Combine state, county, and tract columns together to create a new string and assign to new column\n",
    "il_census_csv[\"GEOID\"] = (il_census_csv[\"state\"].astype(str) + \n",
    "                          il_census_csv[\"county\"].astype(str) + \n",
    "                          il_census_csv[\"tract\"].astype(str))\n",
    "\n",
    "# Print head of dataframe\n",
    "il_census_csv\n"
   ]
  },
  {
   "cell_type": "code",
   "execution_count": null,
   "id": "519d8bc4-5817-4391-9c15-438a71fd574a",
   "metadata": {
    "tags": []
   },
   "outputs": [],
   "source": [
    "# Remove certian columns that are not going to be used\n",
    "il_census_df = il_census_csv.drop(columns = [\"state\", \"county\", \"tract\"])\n",
    "\n",
    "# Show updated dataframe\n",
    "il_census_df\n"
   ]
  },
  {
   "cell_type": "markdown",
   "id": "90313008-0ad7-4a44-a694-5688e576ce7f",
   "metadata": {
    "deletable": false,
    "nbgrader": {
     "cell_type": "markdown",
     "checksum": "855b8fe5681ec560fe950f7a29939862",
     "grade": true,
     "grade_id": "census-cite",
     "locked": false,
     "points": 2,
     "schema_version": 3,
     "solution": true,
     "task": false
    },
    "tags": []
   },
   "source": [
    "YOUR ANSWER HERE"
   ]
  },
  {
   "cell_type": "markdown",
   "id": "c895c699-1d6a-416b-9db8-3bd1cd025f7e",
   "metadata": {
    "deletable": false,
    "editable": false,
    "nbgrader": {
     "cell_type": "markdown",
     "checksum": "39795d1927784400726f59c2e84f664b",
     "grade": false,
     "grade_id": "merge-task",
     "locked": true,
     "points": 2,
     "schema_version": 3,
     "solution": false,
     "task": true
    },
    "tags": []
   },
   "source": [
    "**YOUR TASK:**\n",
    "\n",
    "  1. Merge the census tract `GeoDataFrame` with the median income `DataFrame`\n",
    "  2. Do all the census tracts have data? Eliminate any that do not."
   ]
  },
  {
   "cell_type": "code",
   "execution_count": null,
   "id": "b636aab3-4871-4d2e-bb6d-d761be8a134e",
   "metadata": {
    "deletable": false,
    "nbgrader": {
     "cell_type": "code",
     "checksum": "b2d3a2d7cf1c88a7339b2fcb1b35e9ea",
     "grade": false,
     "grade_id": "merge-ans",
     "locked": false,
     "schema_version": 3,
     "solution": true,
     "task": false
    },
    "tags": []
   },
   "outputs": [],
   "source": [
    "# Now, you can perform the merge using the common column\n",
    "chi_tract_gdf = chicago_census_gdf.merge(il_census_df, on='GEOID')\n",
    "\n",
    "# Show result\n",
    "chi_tract_gdf.plot()\n"
   ]
  },
  {
   "cell_type": "code",
   "execution_count": null,
   "id": "638957e9-304d-4daf-847a-a7883e55aa44",
   "metadata": {
    "tags": []
   },
   "outputs": [],
   "source": [
    "# Clean the data to remove unwanted values.  This will help when plotting \n",
    "#  statistical data.\n",
    "\n",
    "# Replace the -666666 median income values with 'nan'\n",
    "median_income = chi_tract_gdf.median_income\n",
    "min_mi = median_income.min()\n",
    "median_income.replace(min_mi, np.nan, inplace=True)\n",
    "\n",
    "# Replace the -666666 per capita income values with 'nan'\n",
    "per_capita_income = chi_tract_gdf.per_capita_income\n",
    "cap_min = per_capita_income.min()\n",
    "per_capita_income.replace(cap_min, np.nan, inplace=True)\n",
    "\n",
    "\n",
    "# Replace -666666 and 0 with NaN\n",
    "median_year_built = chi_tract_gdf.median_year_built\n",
    "year_min = median_year_built.min()\n",
    "median_year_built.replace(year_min, np.nan,inplace=True)\n",
    "median_year_built.replace(0, np.nan, inplace=True)\n"
   ]
  },
  {
   "cell_type": "code",
   "execution_count": null,
   "id": "5bf353c4-5ea1-4ac1-91a7-8be7331f4914",
   "metadata": {
    "tags": []
   },
   "outputs": [],
   "source": [
    "plt.figure(figsize = (10, 8))\n",
    "plt.hist(chi_tract_gdf['median_year_built'], bins=50);"
   ]
  },
  {
   "cell_type": "code",
   "execution_count": null,
   "id": "9e3f6307-11da-43d4-87eb-d450313dfa62",
   "metadata": {
    "tags": []
   },
   "outputs": [],
   "source": [
    "# Assuming you have already merged the GeoDataFrame and DataFrame and obtained merged_gdf\n",
    "\n",
    "# Check for values that are not relevant in the merged DataFrame\n",
    "missing_values = chi_tract_gdf.isnull().sum()\n",
    "\n",
    "# If there are no missing values, every row has data\n",
    "if missing_values.sum() == 0:\n",
    "    print(\"Every row has data in the merged DataFrame.\")\n",
    "else:\n",
    "    print(missing_values)"
   ]
  },
  {
   "cell_type": "markdown",
   "id": "d2b9ee63-645d-4023-ab95-104220495ee4",
   "metadata": {
    "deletable": false,
    "editable": false,
    "nbgrader": {
     "cell_type": "markdown",
     "checksum": "e64871f77c981420db19f81fdf68e775",
     "grade": false,
     "grade_id": "stac-task",
     "locked": true,
     "points": 1,
     "schema_version": 3,
     "solution": false,
     "task": true
    },
    "tags": []
   },
   "source": [
    "### Get NDVI statistics using STAC catalog\n",
    "\n",
    "NAIP data are freely available through the Microsoft Planetary Computer STAC. Get started by accessing the catalog with the following code:\n",
    "\n",
    "```python\n",
    "e84_catalog = pystac_client.Client.open(\n",
    "    \"https://planetarycomputer.microsoft.com/api/stac/v1\"\n",
    ")\n",
    "```"
   ]
  },
  {
   "cell_type": "code",
   "execution_count": null,
   "id": "ceb0a5ac-53cb-4283-a681-524aac8cb5b7",
   "metadata": {
    "deletable": false,
    "nbgrader": {
     "cell_type": "code",
     "checksum": "31e985282eb5a7a7a78a6b85844ad69f",
     "grade": false,
     "grade_id": "stac-ans",
     "locked": false,
     "schema_version": 3,
     "solution": true,
     "task": false
    },
    "tags": []
   },
   "outputs": [],
   "source": [
    "# Access the Microsoft Planetary Computer STAC\n",
    "\n",
    "pc_catalog = pystac_client.Client.open(\n",
    "    \"https://planetarycomputer.microsoft.com/api/stac/v1\")\n",
    "\n",
    "pc_catalog.title"
   ]
  },
  {
   "cell_type": "markdown",
   "id": "2d1df667-83b0-41ae-b63a-1016dc000e31",
   "metadata": {
    "deletable": false,
    "editable": false,
    "nbgrader": {
     "cell_type": "markdown",
     "checksum": "63f6aee0791de00a004c5f9194cd46a9",
     "grade": false,
     "grade_id": "ndvi-url-task",
     "locked": true,
     "points": 15,
     "schema_version": 3,
     "solution": false,
     "task": true
    },
    "tags": []
   },
   "source": [
    "**YOUR TASK:**\n",
    "\n",
    "  1. Using a loop, for each Census Tract:\n",
    "  \n",
    "     1. Use the following sample code to search for data, replacing the names with applicable values with descriptive names:\n",
    "       \n",
    "        ```python\n",
    "        search = e84_catalog.search(\n",
    "            collections=[\"naip\"],\n",
    "            intersects=shapely.to_geojson(tract_geometry),\n",
    "            datetime=f\"{year}\"\n",
    "        )\n",
    "        ```\n",
    "      2. Access the url using `search.assets['image'].href`\n",
    "      \n",
    "  2. Accumulate the urls in a `pd.DataFrame` or `dict` for later\n",
    "  \n",
    "> NOTE: As always -- DO NOT try to write this loop all at once! Stick with one step at a time, making sure to test your work.\n",
    "\n",
    "> HINT: Occasionally you may find that the STAC service is momentarily unavailable. You may need to include code that will retry the request when you get that error."
   ]
  },
  {
   "cell_type": "code",
   "execution_count": null,
   "id": "8126ad45-ed94-4983-b48c-3f210223c83b",
   "metadata": {
    "tags": []
   },
   "outputs": [],
   "source": [
    "#  Iterate thru the 'chi_tract_gdf' and put the tract name, title_id, \n",
    "#   and url for each NAIP image\n",
    "\n",
    "naip_data_path = os.path.join(proj_dir, 'naip_data', 'naip_urls')\n",
    "if not os.path.exists(naip_data_path):\n",
    "\n",
    "# Initialize an empty list to store DataFrames\n",
    "    dfs = []\n",
    "\n",
    "# Iterate through each row in chi_tract_gdf\n",
    "    for index, row in chi_tract_gdf.iterrows():\n",
    "        geometry_geojson = shapely.geometry.mapping(row.geometry)\n",
    "    \n",
    "        chi_naip_search = pc_catalog.search(\n",
    "            collections=[\"naip\"],\n",
    "            intersects=geometry_geojson,\n",
    "            datetime=f\"{2021}\"\n",
    "        )\n",
    "\n",
    "    # Initialize a list to store data for each item in the search results\n",
    "        item_data = []\n",
    "\n",
    "    # Iterate through each item in the search results\n",
    "        for naip_item in chi_naip_search.items():\n",
    "        # print(naip_item.id)\n",
    "        # Append data to the list\n",
    "            item_data.append({\n",
    "                'tract': row.TRACTCE,\n",
    "                'title_id': naip_item.id,\n",
    "                'url': naip_item.assets['image'].href\n",
    "            })\n",
    "\n",
    "    # Create a DataFrame for the current row\n",
    "        df = pd.DataFrame(item_data)\n",
    "\n",
    "    # Append the DataFrame to the list\n",
    "        dfs.append(df)\n",
    "    \n",
    "# Concatenate all DataFrames in the list into a single DataFrame\n",
    "    all_item_url_df = pd.concat(dfs, ignore_index=True)\n",
    "\n",
    "# Reset index for the final DataFrame\n",
    "    all_item_url_df.reset_index(drop=True, inplace=True)\n",
    "\n",
    "    all_item_url_df.to_csv(naip_data_path, index=False, header=False)\n",
    "\n",
    "# Read the CSV file into a DataFrame\n",
    "# il_census_csv = pd.read_csv(census_data_path, names=column_names, dtype=column_dtypes)\n",
    "naip_col_name = ['tract', 'title_id', 'url']\n",
    "naip_col_dtypes = ({'tract': object, 'title_id': object, 'url': object})\n",
    "\n",
    "naip_urls_df = pd.read_csv(naip_data_path, names=naip_col_name, dtype=naip_col_dtypes)\n"
   ]
  },
  {
   "cell_type": "code",
   "execution_count": null,
   "id": "8c857c6a-1621-4480-bca5-fb86e2b6c7e1",
   "metadata": {
    "deletable": false,
    "nbgrader": {
     "cell_type": "code",
     "checksum": "17b6130e94e29d9744a424f4488f109b",
     "grade": false,
     "grade_id": "ndvi-url-ans",
     "locked": false,
     "schema_version": 3,
     "solution": true,
     "task": false
    },
    "tags": []
   },
   "outputs": [],
   "source": [
    "naip_urls_df"
   ]
  },
  {
   "cell_type": "markdown",
   "id": "1fd206bc-0892-4b3e-ad1c-03e9b4cdddde",
   "metadata": {
    "deletable": false,
    "editable": false,
    "nbgrader": {
     "cell_type": "markdown",
     "checksum": "bb48fcebcb3dcbb9bbc8cfa341b09973",
     "grade": false,
     "grade_id": "pipeline-task",
     "locked": true,
     "points": 15,
     "schema_version": 3,
     "solution": false,
     "task": true
    },
    "tags": []
   },
   "source": [
    "**YOUR TASK:**\n",
    "\n",
    "  1. Using a loop, for each Census Tract:\n",
    "     1. Using a loop, for each data URL:\n",
    "  \n",
    "        1. Use `rioxarray` to open up a connection to the STAC asset, just like you would a file on your computer\n",
    "        2. Crop and then clip your data to the census tract boundary\n",
    "            > HINT: check out the `.clip_box` parameter `auto_expand` and the `clip` parameter `all_touched` to make sure you don't end up with an empty array\n",
    "        3. Compute NDVI for the tract\n",
    "        \n",
    "      2. Merge the NDVI rasters\n",
    "      3. Compute:\n",
    "         1. total number of pixels within the tract\n",
    "         2. fraction of pixels with an NDVI greater than .12 within the tract (and any other statistics you would like to look at)\n",
    "    \n",
    "      4. Accumulate the statistics in a text file or database for later\n",
    "\n",
    "  2. Using a condition, ensure that you do not run this computation if you have already saved values. You do not want to run this step many times, or have to restart from scratch!"
   ]
  },
  {
   "cell_type": "code",
   "execution_count": null,
   "id": "40ceb6dd-2141-47d8-953c-1ea33af783f9",
   "metadata": {
    "tags": []
   },
   "outputs": [],
   "source": [
    "ndvi_data_path = os.path.join(proj_dir, 'ndvi_data', 'ndvi_stats')\n",
    "if not os.path.exists(ndvi_data_path):\n",
    "\n",
    "    warnings.filterwarnings(\"ignore\", message=\"The nodata value .* has been automatically changed .*\")\n",
    "\n",
    "    # List to store statistics for each tract\n",
    "    tract_statistics = {}\n",
    "\n",
    "    # Iterate over each group in the DataFrame\n",
    "    for tract, tract_data in tqdm(naip_urls_df.groupby('tract'), desc='Processing Tracts'):\n",
    "        tract_rasters = []\n",
    "    \n",
    "        # Iterate over each row in the group\n",
    "        for index, row in tract_data.iterrows():\n",
    "            # Open the NAIP raster\n",
    "            sample = rxr.open_rasterio(row.url, masked=True, nodata=np.nan).squeeze()\n",
    "        \n",
    "            # Extract tract boundary and convert to raster CRS\n",
    "            boundary_gdf = chi_tract_gdf.to_crs(sample.rio.crs).loc[chi_tract_gdf.TRACTCE == tract]\n",
    "        \n",
    "            # Crop the raster using the bounding box\n",
    "            cropped_naip_vda = sample.rio.clip_box(*boundary_gdf.total_bounds, auto_expand=True)\n",
    "        \n",
    "            # Clip the raster to the tract's boundary\n",
    "            clipped_naip_vda = cropped_naip_vda.rio.clip(boundary_gdf.geometry, all_touched=True)\n",
    "        \n",
    "            # Append clipped raster to the list\n",
    "            tract_rasters.append(clipped_naip_vda)\n",
    "        \n",
    "        # Merge the clipped rasters\n",
    "        merged_raster = merge_arrays(tract_rasters)\n",
    "    \n",
    "        # Check for one-dimensional raster\n",
    "        if merged_raster.sizes['x'] == 1 or merged_raster.sizes['y'] == 1:\n",
    "            print(f\"Warning: One-dimensional raster encountered for tract {tract}\")\n",
    "            continue  # Skip further processing for this tract\n",
    "    \n",
    "        # Calculate NDVI for each cell\n",
    "        red = merged_raster.sel(band=1)\n",
    "        nir = merged_raster.sel(band=4)\n",
    "        ndvi = (nir - red) / (nir + red)\n",
    "    \n",
    "        # Calculate the mean NDVI value for the tract\n",
    "        mean_ndvi = ndvi.mean().item()  # Convert to scalar value\n",
    "    \n",
    "        # Count non-masked cells\n",
    "        cell_count = np.sum(~np.isnan(merged_raster.values))\n",
    "    \n",
    "        # Calculate fraction of pixels with NDVI > 0.12\n",
    "        ndvi_greater_than_012 = np.sum(ndvi > 0.12)\n",
    "        fraction_ndvi_greater_than_012 = (ndvi_greater_than_012 / cell_count).item() if cell_count > 0 else 0\n",
    "    \n",
    "    \n",
    "        # Append statistics to the dictionary with tract number as key\n",
    "        tract_statistics[tract] = {\n",
    "            'mean_ndvi' : mean_ndvi,\n",
    "            'cell_count': cell_count,\n",
    "            'fraction_ndvi_greater_than_012': fraction_ndvi_greater_than_012\n",
    "        }\n",
    "    \n",
    "        # Delete merged_raster variable to release memory\n",
    "        del merged_raster\n",
    "    \n",
    " "
   ]
  },
  {
   "cell_type": "code",
   "execution_count": null,
   "id": "4da0a058-cf2e-4f2c-be4c-bfc109258220",
   "metadata": {
    "tags": []
   },
   "outputs": [],
   "source": [
    "ndvi_data_path = os.path.join(proj_dir, 'ndvi_data', 'ndvi_stats')\n",
    "if not os.path.exists(ndvi_data_path):\n",
    "\n",
    "    warnings.filterwarnings(\"ignore\", message=\"The nodata value .* has been automatically changed .*\")\n",
    "    # List to store statistics for each tract\n",
    "    tract_statistics = {}\n",
    "\n",
    "    # Iterate over each group in the DataFrame\n",
    "    for tract, tract_data in tqdm(naip_urls_df.groupby('tract'), desc='Processing Tracts'):\n",
    "        tract_rasters = []\n",
    "\n",
    "        # Iterate over each row in the group\n",
    "        for index, row in tract_data.iterrows():\n",
    "            try:\n",
    "                # Open the NAIP raster\n",
    "                sample = rxr.open_rasterio(row.url, masked=True, nodata=np.nan).squeeze()\n",
    "\n",
    "                # Extract tract boundary and convert to raster CRS\n",
    "                boundary_gdf = chi_tract_gdf.to_crs(sample.rio.crs).loc[chi_tract_gdf.TRACTCE == tract]\n",
    "\n",
    "                # Check if the boundary is empty or not\n",
    "                if boundary_gdf.empty:\n",
    "                    print(f\"Warning: No boundary found for tract {tract}\")\n",
    "                    continue  # Skip further processing for this tract\n",
    "\n",
    "                # Crop the raster using the bounding box\n",
    "                cropped_naip_vda = sample.rio.clip_box(*boundary_gdf.total_bounds, auto_expand=True)\n",
    "\n",
    "                # Check if there are enough valid data points\n",
    "                if np.sum(~np.isnan(cropped_naip_vda.values)) <= 1:\n",
    "                    print(f\"Warning: Clipped raster for tract {tract} has insufficient data points.\")\n",
    "                    continue  # Skip further processing for this tract\n",
    "\n",
    "                # Clip the raster to the tract's boundary\n",
    "                clipped_naip_vda = cropped_naip_vda.rio.clip(boundary_gdf.geometry, all_touched=True)\n",
    "\n",
    "                # Append clipped raster to the list\n",
    "                tract_rasters.append(clipped_naip_vda)\n",
    "\n",
    "            except RasterioIOError as e:\n",
    "                print(f\"Error reading raster file: {e}\")\n",
    "\n",
    "        # Merge the clipped rasters\n",
    "        merged_raster = merge_arrays(tract_rasters)\n",
    "\n",
    "        # Check for one-dimensional raster\n",
    "        if merged_raster.sizes['x'] == 1 or merged_raster.sizes['y'] == 1:\n",
    "            print(f\"Warning: One-dimensional raster encountered for tract {tract}\")\n",
    "            continue  # Skip further processing for this tract\n",
    "    \n",
    "        # Calculate NDVI for each cell\n",
    "        red = merged_raster.sel(band=1)\n",
    "        nir = merged_raster.sel(band=4)\n",
    "        ndvi = (nir - red) / (nir + red)\n",
    "\n",
    "        # Calculate the mean NDVI value for the tract\n",
    "        mean_ndvi = ndvi.mean().item()  # Convert to scalar value\n",
    "\n",
    "        # Count non-masked cells\n",
    "        cell_count = np.sum(~np.isnan(merged_raster.values))\n",
    "\n",
    "        # Calculate fraction of pixels with NDVI > 0.12\n",
    "        ndvi_greater_than_012 = np.sum(ndvi > 0.12)\n",
    "        fraction_ndvi_greater_than_012 = (ndvi_greater_than_012 / cell_count).item() if cell_count > 0 else 0\n",
    "\n",
    "\n",
    "        # Append statistics to the dictionary with tract number as key\n",
    "        tract_statistics[tract] = {\n",
    "            'mean_ndvi' : mean_ndvi,\n",
    "            'cell_count': cell_count,\n",
    "            'fraction_ndvi_greater_than_012': fraction_ndvi_greater_than_012\n",
    "            }\n",
    "\n",
    "        # Delete merged_raster variable to release memory\n",
    "        del merged_raster\n",
    "\n"
   ]
  },
  {
   "cell_type": "code",
   "execution_count": null,
   "id": "a3485dcc-ffba-497d-9683-5b8395e16369",
   "metadata": {
    "tags": []
   },
   "outputs": [],
   "source": [
    "ndvi_data_path = os.path.join(proj_dir, 'ndvi_data', 'ndvi_stats')\n",
    "# Read the CSV file into a DataFrame\n",
    "just_test = pd.read_csv(ndvi_data_path)\n",
    "# just_test['tract'] = just_test['tract'].astype('object')\n",
    "just_test"
   ]
  },
  {
   "cell_type": "code",
   "execution_count": null,
   "id": "6ad4e5de-2588-4cd4-8970-0f02942706ad",
   "metadata": {
    "deletable": false,
    "nbgrader": {
     "cell_type": "code",
     "checksum": "70370247d696d325fd6d021b86421d66",
     "grade": false,
     "grade_id": "pipeline-ans",
     "locked": false,
     "schema_version": 3,
     "solution": true,
     "task": false
    },
    "tags": []
   },
   "outputs": [],
   "source": [
    "# Create a copy of chi_tract_gdf\n",
    "chi_tract_gdf_modified = chi_tract_gdf.copy()\n",
    "\n",
    "# Rename the 'TRACTCE' column to 'tract'\n",
    "chi_tract_gdf_modified.rename(columns={'TRACTCE': 'tract'}, inplace=True)\n",
    "\n",
    "# Convert the 'tract' column to int64\n",
    "chi_tract_gdf_modified['tract'] = chi_tract_gdf_modified['tract'].astype('int64')\n"
   ]
  },
  {
   "cell_type": "code",
   "execution_count": null,
   "id": "94b7ba84-4d5e-4b7c-820f-90064374bcb7",
   "metadata": {
    "tags": []
   },
   "outputs": [],
   "source": [
    "# Merge the Chicago tract GeoDataFrame and the NDVI statistic DataFrame\n",
    "#chi_ndvi_gdf = chi_tract_gdf.merge(tract_stats, on='tract')\n",
    "\n",
    "# chi_ndvi_gdf = chi_tract_gdf.merge(just_test, on='tract')\n",
    "merged_stats_gdf = pd.merge(chi_tract_gdf_modified, just_test, on='tract')\n",
    "\n",
    "\n",
    "merged_stats_gdf"
   ]
  },
  {
   "cell_type": "code",
   "execution_count": null,
   "id": "5106d946-c89e-46ca-85a5-b1560f80a227",
   "metadata": {
    "tags": []
   },
   "outputs": [],
   "source": [
    "#  Clean the GeoDataFrame so it is easier to work with.\n",
    "\n",
    "columns_to_remove = (['STATEFP', 'COUNTYFP','GEOID', 'NAME_left', 'NAMELSAD',\n",
    "                      'MTFCC', 'FUNCSTAT', 'ALAND', 'AWATER', 'INTPTLAT',\n",
    "                      'INTPTLON', 'index_right', 'OBJECTID', 'NAME_right',\n",
    "                      'SHAPE_AREA','SHAPE_LEN', 'NAME'])\n",
    "clean_gdf = merged_stats_gdf.drop(columns=columns_to_remove)\n",
    "clean_gdf.dtypes"
   ]
  },
  {
   "cell_type": "markdown",
   "id": "45195b6c-36f4-4928-b421-bfb9fa771a21",
   "metadata": {
    "deletable": false,
    "editable": false,
    "nbgrader": {
     "cell_type": "markdown",
     "checksum": "93a3faab3e2c424ce39e94e907623248",
     "grade": false,
     "grade_id": "step-3",
     "locked": true,
     "schema_version": 3,
     "solution": false,
     "task": false
    },
    "tags": []
   },
   "source": [
    "## STEP 3 - Explore your data with plots"
   ]
  },
  {
   "cell_type": "markdown",
   "id": "631f916e-353e-4160-accf-4496c1177095",
   "metadata": {
    "deletable": false,
    "editable": false,
    "nbgrader": {
     "cell_type": "markdown",
     "checksum": "2c3760aa24d1319d268307387a1276f1",
     "grade": false,
     "grade_id": "chloropleth-task",
     "locked": true,
     "points": 5,
     "schema_version": 3,
     "solution": false,
     "task": true
    },
    "tags": []
   },
   "source": [
    "### Chloropleth plots\n",
    "\n",
    "Before running any statistical models on your data, you should check that your download worked. You should see differences in both median income and mean NDVI across the City.\n",
    "\n",
    "**Create a plot that:**\n",
    "  \n",
    "  * 2 side-by-side Chloropleth plots\n",
    "  * Median income on one and mean NDVI on the other\n",
    "  * Make sure to include a title and labeled color bars"
   ]
  },
  {
   "cell_type": "code",
   "execution_count": null,
   "id": "58c9ac58-0c21-49dd-9fd4-5d8d52910da0",
   "metadata": {
    "deletable": false,
    "nbgrader": {
     "cell_type": "code",
     "checksum": "344a169db01c49e212579e8d32cc4775",
     "grade": false,
     "grade_id": "chloropleth-ans",
     "locked": false,
     "schema_version": 3,
     "solution": true,
     "task": false
    },
    "tags": []
   },
   "outputs": [],
   "source": [
    "\n",
    "# Create chloropleth plots for NDVI and median income\n",
    "ndvi_plot = clean_gdf.hvplot(c='mean_ndvi', geo=True, cmap='YlGn',tiles=True,\n",
    "                                width=500,height=500,title='Mean NDVI')\n",
    "income_plot = clean_gdf.hvplot(c='median_income', geo=True,cmap='YlOrRd', tiles=None,\n",
    "                                  width=500, height=500,title='Median Income')\n",
    "\n",
    "# # Combine plots into a single layout\n",
    "# layout = gv.Layout((gvts.ESRI * ndvi_plot) * income_plot)\n",
    "\n",
    "# # Display the layout\n",
    "# layout.opts(shared_axes=False)\n",
    "\n",
    "#gv.Layout((gvts.ESRI * ndvi_plot) * income_plot)\n",
    "\n",
    "graphs = (gvts.ESRI * ndvi_plot) + (gvts.ESRI * income_plot)\n",
    "\n",
    "graphs\n",
    "\n",
    "# Why do I get two different base maps when I'm requesting gvts.ESRI for both maps?\n"
   ]
  },
  {
   "cell_type": "code",
   "execution_count": null,
   "id": "df3629f3-5c31-49fc-a676-d614b8383c30",
   "metadata": {
    "tags": []
   },
   "outputs": [],
   "source": [
    "# Scatter plots exhibiting the distribution of NDVI relative to Median year built homes and Median Income.  \n",
    "\n",
    "year_built_plot = clean_gdf.hvplot(x='mean_ndvi', y='median_year_built',\n",
    "                                      width=500, height=500, kind='scatter')\n",
    "median_income_plot = clean_gdf.hvplot(x='mean_ndvi', y='median_income',\n",
    "                                         width=500, height=500, kind='scatter')\n",
    "\n",
    "year_built_plot + median_income_plot"
   ]
  },
  {
   "cell_type": "markdown",
   "id": "9ab0efd9-36dd-4b5f-95b9-7cbaedd8e356",
   "metadata": {
    "deletable": false,
    "nbgrader": {
     "cell_type": "markdown",
     "checksum": "275392ee8dd1d05a9655ddf402b00e04",
     "grade": true,
     "grade_id": "chloropleth-caption-ans",
     "locked": false,
     "points": 5,
     "schema_version": 3,
     "solution": true,
     "task": false
    },
    "tags": []
   },
   "source": [
    "YOUR ANSWER HERE"
   ]
  },
  {
   "cell_type": "markdown",
   "id": "8dcc5fa1-c937-4e98-b8fe-579ab3ca2fb6",
   "metadata": {
    "deletable": false,
    "editable": false,
    "nbgrader": {
     "cell_type": "markdown",
     "checksum": "3828a71dddedca029de4b3c481eb7239",
     "grade": false,
     "grade_id": "step-4",
     "locked": true,
     "schema_version": 3,
     "solution": false,
     "task": false
    },
    "tags": []
   },
   "source": [
    "## STEP 4: Explore a linear ordinary least-squares regression\n"
   ]
  },
  {
   "cell_type": "markdown",
   "id": "03740da3-0e11-4028-bfa2-78b59db50727",
   "metadata": {
    "deletable": false,
    "editable": false,
    "nbgrader": {
     "cell_type": "markdown",
     "checksum": "b5babb816a8bf6180f1aa9c0a5b26686",
     "grade": false,
     "grade_id": "model-description-task",
     "locked": true,
     "points": 5,
     "schema_version": 3,
     "solution": false,
     "task": true
    },
    "tags": []
   },
   "source": [
    "### Model description\n",
    "\n",
    "One way to find if there is a statistically significant relationship between the socioeconomic parameters from the U.S. Census and greenspace as measured by the fraction of pixels with an NDVI greater than .12 is to run a linear ordinary least squares (OLS) regression and measure how well it is able to predict greenspace given your chosen socioeconomic variables.\n",
    "\n",
    "Before fitting an OLS regression, you should check that your data are appropriate for the model. In the cell below, write a model description for the linear ordinary least-squares regression that touches on:\n",
    "\n",
    "  1. Assumptions made about the data\n",
    "  2. What is the objective of this model? What metrics could you use to evaluate the fit?\n",
    "  3. Advantages and potential problems with choosing this model."
   ]
  },
  {
   "cell_type": "markdown",
   "id": "ebe9ed2f-66c6-4076-8d29-bbbf6cdcf856",
   "metadata": {},
   "source": [
    "**ADD YOUR MODEL DESCRIPTION HERE**\n",
    "\n"
   ]
  },
  {
   "cell_type": "markdown",
   "id": "a60b88e9-e34d-4305-9369-35094e4b8244",
   "metadata": {
    "deletable": false,
    "editable": false,
    "nbgrader": {
     "cell_type": "markdown",
     "checksum": "9ded341d7683791c155c224a0f96b229",
     "grade": false,
     "grade_id": "matrix-task",
     "locked": true,
     "points": 5,
     "schema_version": 3,
     "solution": false,
     "task": true
    },
    "tags": []
   },
   "source": [
    "### Data preparation\n",
    "\n",
    "When fitting statistical models, you should make sure that your data meet the model assumptions through a process of selection and/or transformation. For example, you can:\n",
    "  * Select by:\n",
    "      * Eliminating observations (rows) or variables (columns) that are missing data\n",
    "      * Selecting a model that matches the way in which variables are related to each other (for example, linear models are not good at modeling circles)\n",
    "      * Selecting variables that explain the largest amount of variability in the dependent variable.\n",
    "  * Transform by:\n",
    "      * Transforming a variable so that it follows a normal distribution. The `log` transform is the most common to eliminate excessive skew (e.g. make the data symmetrical), but you should select a transform most suited to your data.\n",
    "      * Normalizing or standardizing variables to, for example, eliminate negative numbers or effects caused by variables being in a different range.\n",
    "      * Performing a principle component analysis (PCA) to eliminate multicollinearity among the predictor variables\n",
    "  \n",
    "> NOTE: Keep in mind that data transforms like a log transform or a PCA must be reversed after modeling for the results to be meaningful.\n",
    "\n",
    "**YOUR TASK:**\n",
    "\n",
    "  1. Use the `hvplot.scatter_matrix()` function to create an exploratory plot of your data.\n",
    "  2. Make any necessary adjustments to your data to make sure that they meet the assumptions of a linear OLS regression.\n",
    "  3. Explain any data transformations or selections you made and why"
   ]
  },
  {
   "cell_type": "code",
   "execution_count": null,
   "id": "9b8e9c19-58e3-4cc4-b043-1a73a91c535f",
   "metadata": {
    "deletable": false,
    "nbgrader": {
     "cell_type": "code",
     "checksum": "33f8bea92a71d5e2dd4aa68dd5cc019b",
     "grade": false,
     "grade_id": "matrix-ans",
     "locked": false,
     "schema_version": 3,
     "solution": true,
     "task": false
    },
    "tags": []
   },
   "outputs": [],
   "source": [
    "# Assuming df is your DataFrame containing the data\n",
    "\n",
    "\n",
    "# Generate scatter plot matrix with 'column1' on the x-axis and 'column2' on the y-axis\n",
    "scatter_matrix(medgdf)"
   ]
  },
  {
   "cell_type": "markdown",
   "id": "736b8937-c675-41a4-bfb4-05c63c3d9f2e",
   "metadata": {
    "deletable": false,
    "nbgrader": {
     "cell_type": "markdown",
     "checksum": "deaa112becf65fccf8fbcf2786575bf6",
     "grade": true,
     "grade_id": "transformation-ans",
     "locked": false,
     "points": 5,
     "schema_version": 3,
     "solution": true,
     "task": false
    },
    "tags": []
   },
   "source": [
    "YOUR ANSWER HERE"
   ]
  },
  {
   "cell_type": "markdown",
   "id": "455d8e35-9686-4b5e-88bd-29038b0df143",
   "metadata": {
    "deletable": false,
    "editable": false,
    "nbgrader": {
     "cell_type": "markdown",
     "checksum": "1ed6cac75bf5db8cfeff2f4a5e9acff0",
     "grade": false,
     "grade_id": "model-task",
     "locked": true,
     "points": 5,
     "schema_version": 3,
     "solution": false,
     "task": true
    },
    "tags": []
   },
   "source": [
    "### Fit and Predict\n",
    "\n",
    "If you have worked with statistical models before, you may notice that the `scikitlearn` library has a slightly different approach than many software packages. For example, `scikitlearn` emphasizes generic model performance measures like cross-validation and importance over coefficient p-values and correlation. The scikitlearn approach is meant to generalize more smoothly to machine learning (ML) models where the statistical significance is harder to derive mathematically.\n",
    "\n",
    "**YOUR TASK:**\n",
    "\n",
    "  1. Use the scikitlearn documentation and/or ChatGPT as a starting point, split your data into training and testing datasets.\n",
    "  2. Fit a linear regression to your training data.\n",
    "  3. Use your fitted model to predict the testing values.\n",
    "  4. Plot the predicted values against the measured values. You can use the following plotting code as a starting point:\n",
    "  \n",
    "```python\n",
    "(\n",
    "    test_df\n",
    "    .hvplot.scatter(x='measured', y='predicted')\n",
    "    .opts(aspect='equal', xlim=(0, y_max), ylim=(0, y_max), width=600, height=600)\n",
    ") * hv.Slope(slope=1, y_intercept=0).opts(color='black')\n",
    "```"
   ]
  },
  {
   "cell_type": "code",
   "execution_count": null,
   "id": "0df33b4b-88a2-4a6e-9da1-ca97896310e1",
   "metadata": {
    "deletable": false,
    "nbgrader": {
     "cell_type": "code",
     "checksum": "f29a17258469e897f140a8cb28d7f951",
     "grade": false,
     "grade_id": "model-ans",
     "locked": false,
     "schema_version": 3,
     "solution": true,
     "task": false
    },
    "tags": []
   },
   "outputs": [],
   "source": [
    "# Extract features and target variable\n",
    "features = ['median_income', 'per_capita_income', 'population', 'median_year_built', 'mean_ndvi', 'fraction_ndvi_greater_than_012']\n",
    "x = clean_gdf[features]\n",
    "y = clean_gdf['tract']\n",
    "\n",
    "# Impute missing values in features\n",
    "imputer = SimpleImputer(strategy='mean')\n",
    "x_imputed = imputer.fit_transform(x)\n",
    "\n",
    "# Split data into training and testing sets\n",
    "x_train, x_test, y_train, y_test = train_test_split(x_imputed, y, test_size=0.2, random_state=42)\n",
    "\n",
    "# Fit a linear regression model\n",
    "model = LinearRegression()\n",
    "model.fit(x_train, y_train)\n",
    "\n",
    "# Predict testing values\n",
    "y_pred = model.predict(x_test)\n",
    "\n",
    "# Create DataFrame for plotting\n",
    "test_df = pd.DataFrame({'measured': y_test, 'predicted': y_pred})\n",
    "\n",
    "# Plot predicted vs measured values\n",
    "scatter_plot = (test_df.hvplot.scatter(x='measured', y='predicted')\n",
    "                .opts(aspect='equal', width=600, height=600)\n",
    "                * hv.Slope(slope=1, y_intercept=0).opts(color='black'))\n",
    "\n",
    "scatter_plot"
   ]
  },
  {
   "cell_type": "markdown",
   "id": "c981da1d-bd4c-41fe-8603-7630ef4e1bb4",
   "metadata": {
    "deletable": false,
    "editable": false,
    "nbgrader": {
     "cell_type": "markdown",
     "checksum": "4938d95df5e15afc831770e2d811f7e9",
     "grade": false,
     "grade_id": "err-plot-task",
     "locked": true,
     "points": 5,
     "schema_version": 3,
     "solution": false,
     "task": true
    },
    "tags": []
   },
   "source": [
    "### Spatial bias\n",
    "\n",
    "We always need to think about bias, or systematic error, in model results. Every model is going to have some error, but we'd like to see that error evenly distributed. When the error is systematic, it can be an indication that we are missing something important in the model.\n",
    "\n",
    "In geographic data, it is common for location to be a factor that doesn't get incorporated into models. After all -- we generally expect places that are right next to each other to be more similar than places that are far away (this phenomenon is known as *spatial autocorrelation*). However, models like this linear regression don't take location into account at all.\n",
    "\n",
    "**YOUR TASK:**\n",
    "\n",
    "  1. Compute the model error (predicted - measured) for each census tract\n",
    "  2. Plot the error as a chloropleth map with a diverging color scheme\n",
    "  3. Looking at both of your error plots, what do you notice? What are some possible explanations for any bias you see in your model?"
   ]
  },
  {
   "cell_type": "code",
   "execution_count": null,
   "id": "cc0ef2c8-9701-4368-808b-23fa2e18a063",
   "metadata": {
    "deletable": false,
    "nbgrader": {
     "cell_type": "code",
     "checksum": "44348f55f22a32ff494a096dd0703c90",
     "grade": false,
     "grade_id": "err-plot-ans",
     "locked": false,
     "schema_version": 3,
     "solution": true,
     "task": false
    },
    "tags": []
   },
   "outputs": [],
   "source": [
    "\n",
    "\n"
   ]
  },
  {
   "cell_type": "markdown",
   "id": "13db644a-13a8-427f-8f6b-ac7d846b9352",
   "metadata": {
    "deletable": false,
    "nbgrader": {
     "cell_type": "markdown",
     "checksum": "531ad23960dfa1ae2a81fe2699ce803b",
     "grade": true,
     "grade_id": "bias-ans",
     "locked": false,
     "points": 5,
     "schema_version": 3,
     "solution": true,
     "task": false
    },
    "tags": []
   },
   "source": [
    "YOUR ANSWER HERE"
   ]
  }
 ],
 "metadata": {
  "kernelspec": {
   "display_name": "Python 3 (ipykernel)",
   "language": "python",
   "name": "python3"
  },
  "language_info": {
   "codemirror_mode": {
    "name": "ipython",
    "version": 3
   },
   "file_extension": ".py",
   "mimetype": "text/x-python",
   "name": "python",
   "nbconvert_exporter": "python",
   "pygments_lexer": "ipython3",
   "version": "3.10.13"
  }
 },
 "nbformat": 4,
 "nbformat_minor": 5
}
